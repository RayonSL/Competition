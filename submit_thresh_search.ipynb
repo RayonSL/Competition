{
 "cells": [
  {
   "cell_type": "code",
   "execution_count": 2,
   "metadata": {},
   "outputs": [],
   "source": [
    "import mmcv\n",
    "import numpy as np\n",
    "from pycocotools.coco import COCO\n",
    "#from mmdet.core.evaluation.eval_mIOU import evaluate_mIOU\n",
    "\n",
    "\n",
    "gt_fp = 'data/dataset/val.json'\n",
    "submit_fp = '/home/arias/Datasets/jinnan2/submit/val/full_val_04-10_21:43_CascadeRCNN_ResNet_normal_may_not_mixup_mIOU_0.7325.json'\n",
    "gt_coco = COCO(gt_fp)\n",
    "submit_js = mmcv.load(submit_fp)"
   ]
  },
  {
   "cell_type": "code",
   "execution_count": 4,
   "metadata": {},
   "outputs": [
    {
     "name": "stdout",
     "output_type": "stream",
     "text": [
      "Thresh: 0.10  mIOU: 0.6970 1: 0.8545  2: 0.6072  3: 0.6844  4: 0.7589  5: 0.5798  \n",
      "Thresh: 0.15  mIOU: 0.7110 1: 0.8585  2: 0.6224  3: 0.7032  4: 0.7742  5: 0.5964  \n",
      "Thresh: 0.20  mIOU: 0.7172 1: 0.8585  2: 0.6309  3: 0.7105  4: 0.7822  5: 0.6038  \n",
      "Thresh: 0.25  mIOU: 0.7233 1: 0.8560  2: 0.6371  3: 0.7210  4: 0.7923  5: 0.6100  \n",
      "Thresh: 0.30  mIOU: 0.7261 1: 0.8580  2: 0.6434  3: 0.7173  4: 0.7959  5: 0.6161  \n",
      "Thresh: 0.35  mIOU: 0.7284 1: 0.8620  2: 0.6424  3: 0.7235  4: 0.7962  5: 0.6180  \n",
      "Thresh: 0.40  mIOU: 0.7293 1: 0.8620  2: 0.6440  3: 0.7213  4: 0.7991  5: 0.6202  \n",
      "Thresh: 0.45  mIOU: 0.7317 1: 0.8620  2: 0.6440  3: 0.7237  4: 0.8042  5: 0.6248  \n",
      "Thresh: 0.50  mIOU: 0.7325 1: 0.8620  2: 0.6402  3: 0.7307  4: 0.8029  5: 0.6266  \n",
      "Thresh: 0.55  mIOU: 0.7286 1: 0.8561  2: 0.6345  3: 0.7307  4: 0.7985  5: 0.6233  \n",
      "Thresh: 0.60  mIOU: 0.7255 1: 0.8510  2: 0.6325  3: 0.7278  4: 0.7940  5: 0.6222  \n",
      "Thresh: 0.65  mIOU: 0.7231 1: 0.8510  2: 0.6252  3: 0.7255  4: 0.7936  5: 0.6205  \n",
      "Thresh: 0.70  mIOU: 0.7212 1: 0.8552  2: 0.6194  3: 0.7221  4: 0.7935  5: 0.6159  \n",
      "Thresh: 0.75  mIOU: 0.7159 1: 0.8552  2: 0.6087  3: 0.7216  4: 0.7877  5: 0.6065  \n",
      "Thresh: 0.80  mIOU: 0.7136 1: 0.8562  2: 0.6022  3: 0.7174  4: 0.7860  5: 0.6059  \n",
      "Thresh: 0.85  mIOU: 0.7071 1: 0.8633  2: 0.5785  3: 0.7140  4: 0.7783  5: 0.6015  \n",
      "Thresh: 0.90  mIOU: 0.6846 1: 0.8613  2: 0.5210  3: 0.6936  4: 0.7572  5: 0.5900  \n",
      "Thresh: 0.95  mIOU: 0.6367 1: 0.8244  2: 0.4091  3: 0.6651  4: 0.7296  5: 0.5555  \n"
     ]
    }
   ],
   "source": [
    "for thresh in np.arange(0.1, 1.0, 0.05):\n",
    "    IOU, iou_list = evaluate_mIOU(gt_coco, submit_js, score_thresh=thresh, return_iou=True)\n",
    "    msg = f'Thresh: {thresh:.2f}  mIOU: {IOU:.4f} '\n",
    "    for i, iou in enumerate(iou_list):\n",
    "        msg += f'{i+1}: {iou:.4f}  '\n",
    "    print(msg)"
   ]
  },
  {
   "cell_type": "code",
   "execution_count": 1,
   "metadata": {},
   "outputs": [],
   "source": [
    "import mmcv\n",
    "import numpy as np\n",
    "from config import cfg\n",
    "from pycocotools import mask as mask_utils\n",
    "from mmdet.core.evaluation.miou import mIOU\n",
    "\n",
    "\n",
    "def get_gt_masks(anns, coco, img_h, img_w):\n",
    "    num_classes = len(coco.getCatIds())\n",
    "    masks = np.zeros(shape=(num_classes, img_h, img_w), dtype='uint8')\n",
    "    for ann in anns:\n",
    "        category_id = ann['category_id']\n",
    "        mask = coco.annToMask(ann)\n",
    "        masks[category_id - 1] += mask\n",
    "    masks = np.clip(masks, a_min=0, a_max=1)\n",
    "    return masks\n",
    "\n",
    "\n",
    "def get_pred_masks(anns, coco, img_h, img_w):\n",
    "    num_classes = len(coco.getCatIds())\n",
    "    masks = np.zeros(shape=(num_classes, img_h, img_w), dtype='uint8')\n",
    "    for ann in anns:\n",
    "        category_id = ann['category_id']\n",
    "        if not 'mask' in ann:\n",
    "            ann['mask'] =  mask_utils.decode(ann['segmentation'])\n",
    "        mask = ann['mask']\n",
    "        masks[category_id - 1] += mask\n",
    "    masks = np.clip(masks, a_min=0, a_max=1)\n",
    "    return masks\n",
    "\n",
    "\n",
    "def evaluate_mIOU(gt_coco, result_json, score_thresh=None, return_iou=False):\n",
    "    \"\"\"\n",
    "    :param score_thresh: None means use cfg.test_cfg.rcnn.mask_nms_thresh, -1 means disable score thresh\n",
    "    \"\"\"\n",
    "    if isinstance(result_json, str):\n",
    "        result_json = mmcv.load(result_json)\n",
    "\n",
    "    if score_thresh is None:\n",
    "        score_thresh = cfg.test_cfg.rcnn.mask_nms_thresh\n",
    "    valid_result_json = [ann for ann in result_json if ann['score']>score_thresh]\n",
    "    evaluator = mIOU(len(gt_coco.getCatIds()))\n",
    "    img_ids = gt_coco.getImgIds()\n",
    "    img_id_to_anns_dict = _build_img_id_to_anns_dict(valid_result_json)\n",
    "    for img_id in img_ids:\n",
    "        gt_img_info = gt_coco.loadImgs(img_id)[0]\n",
    "        img_h = gt_img_info['height']\n",
    "        img_w = gt_img_info['width']\n",
    "        gt_ann_ids = gt_coco.getAnnIds(img_id)\n",
    "        gt_anns = gt_coco.loadAnns(gt_ann_ids)\n",
    "        gt_masks = get_gt_masks(gt_anns, gt_coco, img_h=img_h, img_w=img_w)\n",
    "\n",
    "        pred_anns = img_id_to_anns_dict.get(img_id, [])\n",
    "        pred_masks = get_pred_masks(pred_anns, gt_coco, img_h=img_h, img_w=img_w)\n",
    "\n",
    "        evaluator.add_batch(gt_masks, pred_masks)\n",
    "\n",
    "    return evaluator.calc_miou(return_iou=return_iou)\n",
    "\n",
    "\n",
    "def _build_img_id_to_anns_dict(result_json):\n",
    "    d = dict()\n",
    "    for ann in result_json:\n",
    "        img_id = ann['image_id']\n",
    "        d.setdefault(img_id, [])\n",
    "        d[img_id].append(ann)\n",
    "    return d"
   ]
  }
 ],
 "metadata": {
  "kernelspec": {
   "display_name": "Python 3",
   "language": "python",
   "name": "python3"
  },
  "language_info": {
   "codemirror_mode": {
    "name": "ipython",
    "version": 3
   },
   "file_extension": ".py",
   "mimetype": "text/x-python",
   "name": "python",
   "nbconvert_exporter": "python",
   "pygments_lexer": "ipython3",
   "version": "3.7.2"
  }
 },
 "nbformat": 4,
 "nbformat_minor": 2
}
